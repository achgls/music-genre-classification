{
 "cells": [
  {
   "cell_type": "code",
   "execution_count": 10,
   "metadata": {
    "collapsed": true,
    "pycharm": {
     "name": "#%%\n"
    }
   },
   "outputs": [],
   "source": [
    "import torch\n",
    "import torch.nn as nn\n",
    "from torch.utils.data import DataLoader\n",
    "\n",
    "import pandas as pd\n",
    "import numpy as np\n",
    "\n",
    "from dataset import _label_dict_\n",
    "from sklearn.preprocessing import StandardScaler\n",
    "from sklearn.model_selection import StratifiedKFold\n",
    "from sklearn.neural_network import MLPClassifier\n",
    "\n",
    "from tqdm.notebook import tqdm"
   ]
  },
  {
   "cell_type": "markdown",
   "source": [
    "---\n",
    "---\n",
    "# Prepare data"
   ],
   "metadata": {
    "collapsed": false,
    "pycharm": {
     "name": "#%% md\n"
    }
   }
  },
  {
   "cell_type": "code",
   "execution_count": 3,
   "outputs": [],
   "source": [
    "def true_filename(fn):\n",
    "    return '.'.join(fn.split('.')[:2])\n",
    "\n",
    "@np.vectorize\n",
    "def genre(true_fn):\n",
    "    return true_fn.split('.')[0]"
   ],
   "metadata": {
    "collapsed": false,
    "pycharm": {
     "name": "#%%\n"
    }
   }
  },
  {
   "cell_type": "code",
   "execution_count": 74,
   "outputs": [],
   "source": [
    "data = pd.read_csv(\"../res/features_30_sec.csv\")"
   ],
   "metadata": {
    "collapsed": false,
    "pycharm": {
     "name": "#%%\n"
    }
   }
  },
  {
   "cell_type": "code",
   "execution_count": 75,
   "outputs": [
    {
     "data": {
      "text/plain": "        filename  length  chroma_stft_mean  chroma_stft_var  rms_mean   \n0    blues.00000  661794          0.350088         0.088757  0.130228  \\\n1    blues.00001  661794          0.340914         0.094980  0.095948   \n2    blues.00002  661794          0.363637         0.085275  0.175570   \n3    blues.00003  661794          0.404785         0.093999  0.141093   \n4    blues.00004  661794          0.308526         0.087841  0.091529   \n..           ...     ...               ...              ...       ...   \n995   rock.00095  661794          0.352063         0.080487  0.079486   \n996   rock.00096  661794          0.398687         0.075086  0.076458   \n997   rock.00097  661794          0.432142         0.075268  0.081651   \n998   rock.00098  661794          0.362485         0.091506  0.083860   \n999   rock.00099  661794          0.358401         0.085884  0.054454   \n\n      rms_var  spectral_centroid_mean  spectral_centroid_var   \n0    0.002827             1784.165850          129774.064525  \\\n1    0.002373             1530.176679          375850.073649   \n2    0.002746             1552.811865          156467.643368   \n3    0.006346             1070.106615          184355.942417   \n4    0.002303             1835.004266          343399.939274   \n..        ...                     ...                    ...   \n995  0.000345             2008.149458          282174.689224   \n996  0.000588             2006.843354          182114.709510   \n997  0.000322             2077.526598          231657.968040   \n998  0.001211             1398.699344          240318.731073   \n999  0.000336             1609.795082          422203.216152   \n\n     spectral_bandwidth_mean  spectral_bandwidth_var  ...  mfcc16_var   \n0                2002.449060            85882.761315  ...   52.420910  \\\n1                2039.036516           213843.755497  ...   55.356403   \n2                1747.702312            76254.192257  ...   40.598766   \n3                1596.412872           166441.494769  ...   44.427753   \n4                1748.172116            88445.209036  ...   86.099236   \n..                       ...                     ...  ...         ...   \n995              2106.541053            88609.749506  ...   45.050526   \n996              2068.942009            82426.016726  ...   33.851742   \n997              1927.293153            74717.124394  ...   33.597008   \n998              1818.450280           109090.207161  ...   46.324894   \n999              1797.213044           120115.632927  ...   59.167755   \n\n     mfcc17_mean  mfcc17_var  mfcc18_mean  mfcc18_var  mfcc19_mean   \n0      -1.690215   36.524071    -0.408979   41.597103    -2.303523  \\\n1      -0.731125   60.314529     0.295073   48.120598    -0.283518   \n2      -7.729093   47.639427    -1.816407   52.382141    -3.439720   \n3      -3.319597   50.206673     0.636965   37.319130    -0.619121   \n4      -5.454034   75.269707    -0.916874   53.613918    -4.404827   \n..           ...         ...          ...         ...          ...   \n995   -13.289984   41.754955     2.484145   36.778877    -6.713265   \n996   -10.848309   39.395096     1.881229   32.010040    -7.461491   \n997   -12.845291   36.367264     3.440978   36.001110   -12.588070   \n998    -4.416050   43.583942     1.556207   34.331261    -5.041897   \n999    -7.069775   73.760391     0.028346   76.504326    -2.025783   \n\n     mfcc19_var  mfcc20_mean  mfcc20_var  label  \n0     55.062923     1.221291   46.936035  blues  \n1     51.106190     0.531217   45.786282  blues  \n2     46.639660    -2.231258   30.573025  blues  \n3     37.259739    -3.407448   31.949339  blues  \n4     62.910812   -11.703234   55.195160  blues  \n..          ...          ...         ...    ...  \n995   54.866825    -1.193787   49.950665   rock  \n996   39.196327    -2.795338   31.773624   rock  \n997   42.502201    -2.106337   29.865515   rock  \n998   47.227180    -3.590644   41.299088   rock  \n999   72.189316     1.155239   49.662510   rock  \n\n[1000 rows x 60 columns]",
      "text/html": "<div>\n<style scoped>\n    .dataframe tbody tr th:only-of-type {\n        vertical-align: middle;\n    }\n\n    .dataframe tbody tr th {\n        vertical-align: top;\n    }\n\n    .dataframe thead th {\n        text-align: right;\n    }\n</style>\n<table border=\"1\" class=\"dataframe\">\n  <thead>\n    <tr style=\"text-align: right;\">\n      <th></th>\n      <th>filename</th>\n      <th>length</th>\n      <th>chroma_stft_mean</th>\n      <th>chroma_stft_var</th>\n      <th>rms_mean</th>\n      <th>rms_var</th>\n      <th>spectral_centroid_mean</th>\n      <th>spectral_centroid_var</th>\n      <th>spectral_bandwidth_mean</th>\n      <th>spectral_bandwidth_var</th>\n      <th>...</th>\n      <th>mfcc16_var</th>\n      <th>mfcc17_mean</th>\n      <th>mfcc17_var</th>\n      <th>mfcc18_mean</th>\n      <th>mfcc18_var</th>\n      <th>mfcc19_mean</th>\n      <th>mfcc19_var</th>\n      <th>mfcc20_mean</th>\n      <th>mfcc20_var</th>\n      <th>label</th>\n    </tr>\n  </thead>\n  <tbody>\n    <tr>\n      <th>0</th>\n      <td>blues.00000</td>\n      <td>661794</td>\n      <td>0.350088</td>\n      <td>0.088757</td>\n      <td>0.130228</td>\n      <td>0.002827</td>\n      <td>1784.165850</td>\n      <td>129774.064525</td>\n      <td>2002.449060</td>\n      <td>85882.761315</td>\n      <td>...</td>\n      <td>52.420910</td>\n      <td>-1.690215</td>\n      <td>36.524071</td>\n      <td>-0.408979</td>\n      <td>41.597103</td>\n      <td>-2.303523</td>\n      <td>55.062923</td>\n      <td>1.221291</td>\n      <td>46.936035</td>\n      <td>blues</td>\n    </tr>\n    <tr>\n      <th>1</th>\n      <td>blues.00001</td>\n      <td>661794</td>\n      <td>0.340914</td>\n      <td>0.094980</td>\n      <td>0.095948</td>\n      <td>0.002373</td>\n      <td>1530.176679</td>\n      <td>375850.073649</td>\n      <td>2039.036516</td>\n      <td>213843.755497</td>\n      <td>...</td>\n      <td>55.356403</td>\n      <td>-0.731125</td>\n      <td>60.314529</td>\n      <td>0.295073</td>\n      <td>48.120598</td>\n      <td>-0.283518</td>\n      <td>51.106190</td>\n      <td>0.531217</td>\n      <td>45.786282</td>\n      <td>blues</td>\n    </tr>\n    <tr>\n      <th>2</th>\n      <td>blues.00002</td>\n      <td>661794</td>\n      <td>0.363637</td>\n      <td>0.085275</td>\n      <td>0.175570</td>\n      <td>0.002746</td>\n      <td>1552.811865</td>\n      <td>156467.643368</td>\n      <td>1747.702312</td>\n      <td>76254.192257</td>\n      <td>...</td>\n      <td>40.598766</td>\n      <td>-7.729093</td>\n      <td>47.639427</td>\n      <td>-1.816407</td>\n      <td>52.382141</td>\n      <td>-3.439720</td>\n      <td>46.639660</td>\n      <td>-2.231258</td>\n      <td>30.573025</td>\n      <td>blues</td>\n    </tr>\n    <tr>\n      <th>3</th>\n      <td>blues.00003</td>\n      <td>661794</td>\n      <td>0.404785</td>\n      <td>0.093999</td>\n      <td>0.141093</td>\n      <td>0.006346</td>\n      <td>1070.106615</td>\n      <td>184355.942417</td>\n      <td>1596.412872</td>\n      <td>166441.494769</td>\n      <td>...</td>\n      <td>44.427753</td>\n      <td>-3.319597</td>\n      <td>50.206673</td>\n      <td>0.636965</td>\n      <td>37.319130</td>\n      <td>-0.619121</td>\n      <td>37.259739</td>\n      <td>-3.407448</td>\n      <td>31.949339</td>\n      <td>blues</td>\n    </tr>\n    <tr>\n      <th>4</th>\n      <td>blues.00004</td>\n      <td>661794</td>\n      <td>0.308526</td>\n      <td>0.087841</td>\n      <td>0.091529</td>\n      <td>0.002303</td>\n      <td>1835.004266</td>\n      <td>343399.939274</td>\n      <td>1748.172116</td>\n      <td>88445.209036</td>\n      <td>...</td>\n      <td>86.099236</td>\n      <td>-5.454034</td>\n      <td>75.269707</td>\n      <td>-0.916874</td>\n      <td>53.613918</td>\n      <td>-4.404827</td>\n      <td>62.910812</td>\n      <td>-11.703234</td>\n      <td>55.195160</td>\n      <td>blues</td>\n    </tr>\n    <tr>\n      <th>...</th>\n      <td>...</td>\n      <td>...</td>\n      <td>...</td>\n      <td>...</td>\n      <td>...</td>\n      <td>...</td>\n      <td>...</td>\n      <td>...</td>\n      <td>...</td>\n      <td>...</td>\n      <td>...</td>\n      <td>...</td>\n      <td>...</td>\n      <td>...</td>\n      <td>...</td>\n      <td>...</td>\n      <td>...</td>\n      <td>...</td>\n      <td>...</td>\n      <td>...</td>\n      <td>...</td>\n    </tr>\n    <tr>\n      <th>995</th>\n      <td>rock.00095</td>\n      <td>661794</td>\n      <td>0.352063</td>\n      <td>0.080487</td>\n      <td>0.079486</td>\n      <td>0.000345</td>\n      <td>2008.149458</td>\n      <td>282174.689224</td>\n      <td>2106.541053</td>\n      <td>88609.749506</td>\n      <td>...</td>\n      <td>45.050526</td>\n      <td>-13.289984</td>\n      <td>41.754955</td>\n      <td>2.484145</td>\n      <td>36.778877</td>\n      <td>-6.713265</td>\n      <td>54.866825</td>\n      <td>-1.193787</td>\n      <td>49.950665</td>\n      <td>rock</td>\n    </tr>\n    <tr>\n      <th>996</th>\n      <td>rock.00096</td>\n      <td>661794</td>\n      <td>0.398687</td>\n      <td>0.075086</td>\n      <td>0.076458</td>\n      <td>0.000588</td>\n      <td>2006.843354</td>\n      <td>182114.709510</td>\n      <td>2068.942009</td>\n      <td>82426.016726</td>\n      <td>...</td>\n      <td>33.851742</td>\n      <td>-10.848309</td>\n      <td>39.395096</td>\n      <td>1.881229</td>\n      <td>32.010040</td>\n      <td>-7.461491</td>\n      <td>39.196327</td>\n      <td>-2.795338</td>\n      <td>31.773624</td>\n      <td>rock</td>\n    </tr>\n    <tr>\n      <th>997</th>\n      <td>rock.00097</td>\n      <td>661794</td>\n      <td>0.432142</td>\n      <td>0.075268</td>\n      <td>0.081651</td>\n      <td>0.000322</td>\n      <td>2077.526598</td>\n      <td>231657.968040</td>\n      <td>1927.293153</td>\n      <td>74717.124394</td>\n      <td>...</td>\n      <td>33.597008</td>\n      <td>-12.845291</td>\n      <td>36.367264</td>\n      <td>3.440978</td>\n      <td>36.001110</td>\n      <td>-12.588070</td>\n      <td>42.502201</td>\n      <td>-2.106337</td>\n      <td>29.865515</td>\n      <td>rock</td>\n    </tr>\n    <tr>\n      <th>998</th>\n      <td>rock.00098</td>\n      <td>661794</td>\n      <td>0.362485</td>\n      <td>0.091506</td>\n      <td>0.083860</td>\n      <td>0.001211</td>\n      <td>1398.699344</td>\n      <td>240318.731073</td>\n      <td>1818.450280</td>\n      <td>109090.207161</td>\n      <td>...</td>\n      <td>46.324894</td>\n      <td>-4.416050</td>\n      <td>43.583942</td>\n      <td>1.556207</td>\n      <td>34.331261</td>\n      <td>-5.041897</td>\n      <td>47.227180</td>\n      <td>-3.590644</td>\n      <td>41.299088</td>\n      <td>rock</td>\n    </tr>\n    <tr>\n      <th>999</th>\n      <td>rock.00099</td>\n      <td>661794</td>\n      <td>0.358401</td>\n      <td>0.085884</td>\n      <td>0.054454</td>\n      <td>0.000336</td>\n      <td>1609.795082</td>\n      <td>422203.216152</td>\n      <td>1797.213044</td>\n      <td>120115.632927</td>\n      <td>...</td>\n      <td>59.167755</td>\n      <td>-7.069775</td>\n      <td>73.760391</td>\n      <td>0.028346</td>\n      <td>76.504326</td>\n      <td>-2.025783</td>\n      <td>72.189316</td>\n      <td>1.155239</td>\n      <td>49.662510</td>\n      <td>rock</td>\n    </tr>\n  </tbody>\n</table>\n<p>1000 rows × 60 columns</p>\n</div>"
     },
     "execution_count": 75,
     "metadata": {},
     "output_type": "execute_result"
    }
   ],
   "source": [
    "data[\"filename\"] = data[\"filename\"].apply(true_filename)\n",
    "data"
   ],
   "metadata": {
    "collapsed": false,
    "pycharm": {
     "name": "#%%\n"
    }
   }
  },
  {
   "cell_type": "code",
   "execution_count": 76,
   "outputs": [],
   "source": [
    "unique_files = np.unique(data[\"filename\"]).astype(str)\n",
    "labels = genre(unique_files)\n",
    "splits = [\n",
    "    (unique_files[split[0]], unique_files[split[1]])\n",
    "    for split in StratifiedKFold(n_splits=5, shuffle=True, random_state=123456789).split(unique_files, labels)]"
   ],
   "metadata": {
    "collapsed": false,
    "pycharm": {
     "name": "#%%\n"
    }
   }
  },
  {
   "cell_type": "markdown",
   "source": [
    "---\n",
    "---\n",
    "# Prepare training"
   ],
   "metadata": {
    "collapsed": false,
    "pycharm": {
     "name": "#%% md\n"
    }
   }
  },
  {
   "cell_type": "code",
   "execution_count": 77,
   "outputs": [],
   "source": [
    "def train_one_epoch(model, trn_loader, loss_fn, optimizer):\n",
    "    correctly_classified = 0\n",
    "    incorrectly_classified = 0\n",
    "    running_loss = 0.\n",
    "\n",
    "    for batch in trn_loader:\n",
    "        optimizer.zero_grad()\n",
    "\n",
    "        x = batch[:, :-1]\n",
    "        y = batch[:, -1].long()\n",
    "\n",
    "        logits = model(x)\n",
    "        loss = loss_fn(logits, y)\n",
    "\n",
    "        loss.backward()\n",
    "        optimizer.step()\n",
    "\n",
    "        preds = torch.argmax(logits, dim=1)\n",
    "\n",
    "        running_loss += loss.item()\n",
    "        n_correct = torch.sum(preds == y)\n",
    "        correctly_classified += n_correct\n",
    "        incorrectly_classified += (preds.size(0) - n_correct)\n",
    "\n",
    "    avg_acc = correctly_classified / (correctly_classified + incorrectly_classified)\n",
    "    avg_loss = running_loss / len(trn_loader)\n",
    "    return avg_loss, avg_acc\n",
    "\n",
    "def validate(model, val_loader, loss_fn):\n",
    "    correctly_classified = 0\n",
    "    incorrectly_classified = 0\n",
    "    running_loss = 0.\n",
    "\n",
    "    with torch.no_grad():\n",
    "        for batch in val_loader:\n",
    "            x = batch[:, :-1]\n",
    "            y = batch[:, -1].long()\n",
    "\n",
    "            logits = model(x)\n",
    "            loss = loss_fn(logits, y)\n",
    "\n",
    "            preds = torch.argmax(logits, dim=1)\n",
    "\n",
    "            running_loss += loss.item()\n",
    "            n_correct = torch.sum(preds == y)\n",
    "            correctly_classified += n_correct\n",
    "            incorrectly_classified += (preds.size(0) - n_correct)\n",
    "\n",
    "    avg_acc = correctly_classified / (correctly_classified + incorrectly_classified)\n",
    "    avg_loss = running_loss / len(val_loader)\n",
    "    return avg_loss, avg_acc\n",
    "\n",
    "\n",
    "\n",
    "def train(model, n_epochs, trn_loader, val_loader, early_stopping, loss_fn, optimizer, scheduler):\n",
    "    output = dict()\n",
    "    epochs_without_improvement = 0\n",
    "\n",
    "    best_val_loss = torch.inf\n",
    "    output[\"best_val_loss\"] = best_val_loss\n",
    "    best_val_acc = 0.\n",
    "    output[\"best_val_acc\"] = best_val_acc\n",
    "\n",
    "    output[\"train/loss\"] = []\n",
    "    output[\"train/acc\"]  = []\n",
    "    output[\"val/loss\"]   = []\n",
    "    output[\"val/acc\"]    = []\n",
    "\n",
    "    pbar = tqdm(range(n_epochs))\n",
    "    for epoch in pbar:\n",
    "        model.train()\n",
    "        trn_loss, trn_acc = train_one_epoch(\n",
    "            model, trn_loader, loss_fn, optimizer,\n",
    "        )\n",
    "        if scheduler is not None:\n",
    "            scheduler.step()\n",
    "        output[\"train/loss\"].append(trn_loss)\n",
    "        output[\"train/acc\"].append(trn_acc)\n",
    "\n",
    "        model.eval()\n",
    "        val_loss, val_acc = validate(\n",
    "            model, val_loader, loss_fn\n",
    "        )\n",
    "        output[\"val/loss\"].append(trn_loss)\n",
    "        output[\"val/acc\"].append(trn_acc)\n",
    "\n",
    "        pbar.set_postfix_str(f\"loss = {trn_loss:>6.4f} | acc. = {trn_acc * 100:>5.2f} % | \"\n",
    "                             f\"val. loss = {val_loss:>6.4f} | val. acc = {val_acc * 100:>5.2f} %\")\n",
    "\n",
    "        if val_loss < output[\"best_val_loss\"]:\n",
    "            output[\"best_loss_state\"] = model.state_dict()\n",
    "            epochs_without_improvement = 0\n",
    "            output[\"best_val_loss\"] = val_loss\n",
    "        elif val_acc > output[\"best_val_acc\"]:\n",
    "            output[\"best_acc_state\"] = model.state_dict()\n",
    "            epochs_without_improvement = 0\n",
    "            output[\"best_val_acc\"] = val_acc\n",
    "        else:\n",
    "            epochs_without_improvement += 1\n",
    "            if epochs_without_improvement >= early_stopping:\n",
    "                output[\"last_state\"] = model.state_dict()\n",
    "                return output\n",
    "\n",
    "    output[\"last_state\"] = model.state_dict()\n",
    "    return output"
   ],
   "metadata": {
    "collapsed": false,
    "pycharm": {
     "name": "#%%\n"
    }
   }
  },
  {
   "cell_type": "markdown",
   "source": [
    "---\n",
    "---\n",
    "# Train"
   ],
   "metadata": {
    "collapsed": false,
    "pycharm": {
     "name": "#%% md\n"
    }
   }
  },
  {
   "cell_type": "code",
   "execution_count": 78,
   "outputs": [],
   "source": [
    "data[\"label\"] = data[\"label\"].apply(lambda k: _label_dict_[k])"
   ],
   "metadata": {
    "collapsed": false,
    "pycharm": {
     "name": "#%%\n"
    }
   }
  },
  {
   "cell_type": "code",
   "execution_count": 81,
   "outputs": [
    {
     "data": {
      "text/plain": "  0%|          | 0/5 [00:00<?, ?it/s]",
      "application/vnd.jupyter.widget-view+json": {
       "version_major": 2,
       "version_minor": 0,
       "model_id": "447aa9e03f3c41e1b933fa78654631ee"
      }
     },
     "metadata": {},
     "output_type": "display_data"
    },
    {
     "data": {
      "text/plain": "  0%|          | 0/5 [00:00<?, ?it/s]",
      "application/vnd.jupyter.widget-view+json": {
       "version_major": 2,
       "version_minor": 0,
       "model_id": "dbd932e7172f4f35bf8e006cd16fb24c"
      }
     },
     "metadata": {},
     "output_type": "display_data"
    },
    {
     "data": {
      "text/plain": "  0%|          | 0/300 [00:00<?, ?it/s]",
      "application/vnd.jupyter.widget-view+json": {
       "version_major": 2,
       "version_minor": 0,
       "model_id": "fd3e03cace9d40388358b2c34a98cbda"
      }
     },
     "metadata": {},
     "output_type": "display_data"
    },
    {
     "data": {
      "text/plain": "  0%|          | 0/300 [00:00<?, ?it/s]",
      "application/vnd.jupyter.widget-view+json": {
       "version_major": 2,
       "version_minor": 0,
       "model_id": "86a7ba4dee7e4d7495cca90bf26e51b5"
      }
     },
     "metadata": {},
     "output_type": "display_data"
    },
    {
     "data": {
      "text/plain": "  0%|          | 0/300 [00:00<?, ?it/s]",
      "application/vnd.jupyter.widget-view+json": {
       "version_major": 2,
       "version_minor": 0,
       "model_id": "4cf458ae712f46c3b5653ffc1daa1b48"
      }
     },
     "metadata": {},
     "output_type": "display_data"
    },
    {
     "data": {
      "text/plain": "  0%|          | 0/300 [00:00<?, ?it/s]",
      "application/vnd.jupyter.widget-view+json": {
       "version_major": 2,
       "version_minor": 0,
       "model_id": "a34d75c927e346f292fc472ef51023ab"
      }
     },
     "metadata": {},
     "output_type": "display_data"
    },
    {
     "data": {
      "text/plain": "  0%|          | 0/300 [00:00<?, ?it/s]",
      "application/vnd.jupyter.widget-view+json": {
       "version_major": 2,
       "version_minor": 0,
       "model_id": "6c75898b8f0440da833d7eee80caf77b"
      }
     },
     "metadata": {},
     "output_type": "display_data"
    },
    {
     "data": {
      "text/plain": "  0%|          | 0/5 [00:00<?, ?it/s]",
      "application/vnd.jupyter.widget-view+json": {
       "version_major": 2,
       "version_minor": 0,
       "model_id": "bd1e47878f644c0b95741d2464785c8a"
      }
     },
     "metadata": {},
     "output_type": "display_data"
    },
    {
     "data": {
      "text/plain": "  0%|          | 0/300 [00:00<?, ?it/s]",
      "application/vnd.jupyter.widget-view+json": {
       "version_major": 2,
       "version_minor": 0,
       "model_id": "ed3a7064f2c044168bbc334055682b80"
      }
     },
     "metadata": {},
     "output_type": "display_data"
    },
    {
     "data": {
      "text/plain": "  0%|          | 0/300 [00:00<?, ?it/s]",
      "application/vnd.jupyter.widget-view+json": {
       "version_major": 2,
       "version_minor": 0,
       "model_id": "3193a71b052447b7b6285e06865e6f67"
      }
     },
     "metadata": {},
     "output_type": "display_data"
    },
    {
     "data": {
      "text/plain": "  0%|          | 0/300 [00:00<?, ?it/s]",
      "application/vnd.jupyter.widget-view+json": {
       "version_major": 2,
       "version_minor": 0,
       "model_id": "2a75e6ccb06545f282549ffd00dce386"
      }
     },
     "metadata": {},
     "output_type": "display_data"
    },
    {
     "data": {
      "text/plain": "  0%|          | 0/300 [00:00<?, ?it/s]",
      "application/vnd.jupyter.widget-view+json": {
       "version_major": 2,
       "version_minor": 0,
       "model_id": "b064ca2ae5634998b057fe3a1d5fe726"
      }
     },
     "metadata": {},
     "output_type": "display_data"
    },
    {
     "data": {
      "text/plain": "  0%|          | 0/300 [00:00<?, ?it/s]",
      "application/vnd.jupyter.widget-view+json": {
       "version_major": 2,
       "version_minor": 0,
       "model_id": "810c64659dd84bfcb564d0001e2a55a1"
      }
     },
     "metadata": {},
     "output_type": "display_data"
    },
    {
     "data": {
      "text/plain": "  0%|          | 0/5 [00:00<?, ?it/s]",
      "application/vnd.jupyter.widget-view+json": {
       "version_major": 2,
       "version_minor": 0,
       "model_id": "57bc4e6de955431187d7fd8d609c54b9"
      }
     },
     "metadata": {},
     "output_type": "display_data"
    },
    {
     "data": {
      "text/plain": "  0%|          | 0/300 [00:00<?, ?it/s]",
      "application/vnd.jupyter.widget-view+json": {
       "version_major": 2,
       "version_minor": 0,
       "model_id": "55e6f77b49354e4cb7433d2025b26cb8"
      }
     },
     "metadata": {},
     "output_type": "display_data"
    },
    {
     "data": {
      "text/plain": "  0%|          | 0/300 [00:00<?, ?it/s]",
      "application/vnd.jupyter.widget-view+json": {
       "version_major": 2,
       "version_minor": 0,
       "model_id": "867d2fd34bb14e05b6223bf55b9a48b9"
      }
     },
     "metadata": {},
     "output_type": "display_data"
    },
    {
     "data": {
      "text/plain": "  0%|          | 0/300 [00:00<?, ?it/s]",
      "application/vnd.jupyter.widget-view+json": {
       "version_major": 2,
       "version_minor": 0,
       "model_id": "3d33b5f1cd33478ba5453bc156ea3dca"
      }
     },
     "metadata": {},
     "output_type": "display_data"
    },
    {
     "data": {
      "text/plain": "  0%|          | 0/300 [00:00<?, ?it/s]",
      "application/vnd.jupyter.widget-view+json": {
       "version_major": 2,
       "version_minor": 0,
       "model_id": "7aa882ad00d041e292ce2b87e8d98a3a"
      }
     },
     "metadata": {},
     "output_type": "display_data"
    },
    {
     "data": {
      "text/plain": "  0%|          | 0/300 [00:00<?, ?it/s]",
      "application/vnd.jupyter.widget-view+json": {
       "version_major": 2,
       "version_minor": 0,
       "model_id": "7f2938cfc31b46a38284be8be7c565ff"
      }
     },
     "metadata": {},
     "output_type": "display_data"
    },
    {
     "data": {
      "text/plain": "  0%|          | 0/5 [00:00<?, ?it/s]",
      "application/vnd.jupyter.widget-view+json": {
       "version_major": 2,
       "version_minor": 0,
       "model_id": "1959c48ae30748d3883beadcf58598c5"
      }
     },
     "metadata": {},
     "output_type": "display_data"
    },
    {
     "data": {
      "text/plain": "  0%|          | 0/300 [00:00<?, ?it/s]",
      "application/vnd.jupyter.widget-view+json": {
       "version_major": 2,
       "version_minor": 0,
       "model_id": "1aca98052d104e55a478ccbbdcb333f8"
      }
     },
     "metadata": {},
     "output_type": "display_data"
    },
    {
     "data": {
      "text/plain": "  0%|          | 0/300 [00:00<?, ?it/s]",
      "application/vnd.jupyter.widget-view+json": {
       "version_major": 2,
       "version_minor": 0,
       "model_id": "90b4c1f5bd954d369c3e4f635a08fd5f"
      }
     },
     "metadata": {},
     "output_type": "display_data"
    },
    {
     "data": {
      "text/plain": "  0%|          | 0/300 [00:00<?, ?it/s]",
      "application/vnd.jupyter.widget-view+json": {
       "version_major": 2,
       "version_minor": 0,
       "model_id": "e56296946b684bcb82f6a1104b2db6fb"
      }
     },
     "metadata": {},
     "output_type": "display_data"
    },
    {
     "data": {
      "text/plain": "  0%|          | 0/300 [00:00<?, ?it/s]",
      "application/vnd.jupyter.widget-view+json": {
       "version_major": 2,
       "version_minor": 0,
       "model_id": "bc45845f74b346d795060b0ee2153420"
      }
     },
     "metadata": {},
     "output_type": "display_data"
    },
    {
     "data": {
      "text/plain": "  0%|          | 0/300 [00:00<?, ?it/s]",
      "application/vnd.jupyter.widget-view+json": {
       "version_major": 2,
       "version_minor": 0,
       "model_id": "4c483f82cb7d4d6d8de79c0972fcf9a7"
      }
     },
     "metadata": {},
     "output_type": "display_data"
    },
    {
     "data": {
      "text/plain": "  0%|          | 0/5 [00:00<?, ?it/s]",
      "application/vnd.jupyter.widget-view+json": {
       "version_major": 2,
       "version_minor": 0,
       "model_id": "5ccd0bffa68d465d9888806a83645f05"
      }
     },
     "metadata": {},
     "output_type": "display_data"
    },
    {
     "data": {
      "text/plain": "  0%|          | 0/300 [00:00<?, ?it/s]",
      "application/vnd.jupyter.widget-view+json": {
       "version_major": 2,
       "version_minor": 0,
       "model_id": "8204cf45bce84ea1a68c5a50f9bdb4f1"
      }
     },
     "metadata": {},
     "output_type": "display_data"
    },
    {
     "data": {
      "text/plain": "  0%|          | 0/300 [00:00<?, ?it/s]",
      "application/vnd.jupyter.widget-view+json": {
       "version_major": 2,
       "version_minor": 0,
       "model_id": "91cf6b0277d64350ae50d36c144e3f1a"
      }
     },
     "metadata": {},
     "output_type": "display_data"
    },
    {
     "data": {
      "text/plain": "  0%|          | 0/300 [00:00<?, ?it/s]",
      "application/vnd.jupyter.widget-view+json": {
       "version_major": 2,
       "version_minor": 0,
       "model_id": "7a6c2883bbd642acb17510271a8bc80c"
      }
     },
     "metadata": {},
     "output_type": "display_data"
    },
    {
     "data": {
      "text/plain": "  0%|          | 0/300 [00:00<?, ?it/s]",
      "application/vnd.jupyter.widget-view+json": {
       "version_major": 2,
       "version_minor": 0,
       "model_id": "81b1ae2da6a14da693e921873968d638"
      }
     },
     "metadata": {},
     "output_type": "display_data"
    },
    {
     "data": {
      "text/plain": "  0%|          | 0/300 [00:00<?, ?it/s]",
      "application/vnd.jupyter.widget-view+json": {
       "version_major": 2,
       "version_minor": 0,
       "model_id": "2ff3c29bb4784eeb9639e8e2b4a1118a"
      }
     },
     "metadata": {},
     "output_type": "display_data"
    }
   ],
   "source": [
    "results = {}\n",
    "fold_pbar = tqdm(range(5))\n",
    "\n",
    "\n",
    "for num_fold in fold_pbar:\n",
    "    results[num_fold] = dict()\n",
    "    train_files, val_files = splits[num_fold]\n",
    "\n",
    "    train_idx = []\n",
    "    for fn in train_files:\n",
    "        train_idx.extend(data.index[data[\"filename\"] == fn])\n",
    "    val_idx = []\n",
    "    for fn in val_files:\n",
    "        val_idx.extend(data.index[data[\"filename\"] == fn])\n",
    "\n",
    "    std_scaler = StandardScaler()\n",
    "\n",
    "    X = data.to_numpy()[train_idx, 2:].astype(np.float32)\n",
    "    X[:, :-1] = std_scaler.fit_transform(X[:, :-1])\n",
    "    trn_loader = DataLoader(X, batch_size=64, shuffle=True)\n",
    "\n",
    "    val_X = data.to_numpy()[val_idx, 2:].astype(np.float32)\n",
    "    val_X[:, :-1] = std_scaler.fit_transform(val_X[:, :-1])\n",
    "    val_loader = DataLoader(val_X, batch_size=64, shuffle=False)\n",
    "\n",
    "    seed_pbar = tqdm([11111, 22222, 33333, 44444, 55555])\n",
    "    for seed in seed_pbar:\n",
    "        torch.manual_seed(seed)\n",
    "\n",
    "        model = nn.Sequential(\n",
    "            nn.Linear(57, 256),\n",
    "            nn.ReLU(),\n",
    "            nn.Dropout(0.4),\n",
    "            nn.Linear(256, 64),\n",
    "            nn.ReLU(),\n",
    "            nn.Dropout(0.2),\n",
    "            nn.Linear(64, 10))\n",
    "\n",
    "        loss_fn = nn.CrossEntropyLoss()\n",
    "        scheduler=None\n",
    "        optimizer=torch.optim.Adam(model.parameters(), weight_decay=0.0001)\n",
    "\n",
    "        results[num_fold][seed] = train(model, 300, trn_loader, val_loader, 30, loss_fn, optimizer, scheduler)"
   ],
   "metadata": {
    "collapsed": false,
    "pycharm": {
     "name": "#%%\n"
    }
   }
  },
  {
   "cell_type": "markdown",
   "source": [
    "---\n",
    "# Show results"
   ],
   "metadata": {
    "collapsed": false,
    "pycharm": {
     "name": "#%% md\n"
    }
   }
  },
  {
   "cell_type": "code",
   "execution_count": 82,
   "outputs": [
    {
     "name": "stdout",
     "output_type": "stream",
     "text": [
      "Fold 0 val. accuracy = 0.7690 +- 0.0116 | Best: 0.7850\n",
      "Fold 1 val. accuracy = 0.7920 +- 0.0098 | Best: 0.8050\n",
      "Fold 2 val. accuracy = 0.7480 +- 0.0098 | Best: 0.7650\n",
      "Fold 3 val. accuracy = 0.7890 +- 0.0159 | Best: 0.8150\n",
      "Fold 4 val. accuracy = 0.7570 +- 0.0140 | Best: 0.7800\n"
     ]
    }
   ],
   "source": [
    "for fold in range(5):\n",
    "    best_val_accs = [results[fold][seed][\"best_val_acc\"] for seed in results[fold]]\n",
    "    best = np.max(best_val_accs)\n",
    "    mean_val_acc = np.mean(best_val_accs)\n",
    "    std_val_acc = np.std(best_val_accs)\n",
    "    print(f\"Fold {fold} val. accuracy = {mean_val_acc:.4f} +- {std_val_acc:.4f} | Best: {best:.4f}\")"
   ],
   "metadata": {
    "collapsed": false,
    "pycharm": {
     "name": "#%%\n"
    }
   }
  },
  {
   "cell_type": "markdown",
   "source": [
    "---\n",
    "# Save results"
   ],
   "metadata": {
    "collapsed": false,
    "pycharm": {
     "name": "#%% md\n"
    }
   }
  },
  {
   "cell_type": "code",
   "execution_count": 83,
   "outputs": [
    {
     "data": {
      "text/plain": "['../results/mlp_30sec_5fold_5seed.pkl']"
     },
     "execution_count": 83,
     "metadata": {},
     "output_type": "execute_result"
    }
   ],
   "source": [
    "import joblib\n",
    "joblib.dump(results, \"../results/mlp_30sec_5fold_5seed.pkl\")"
   ],
   "metadata": {
    "collapsed": false,
    "pycharm": {
     "name": "#%%\n"
    }
   }
  },
  {
   "cell_type": "markdown",
   "source": [],
   "metadata": {
    "collapsed": false,
    "pycharm": {
     "name": "#%% md\n"
    }
   }
  }
 ],
 "metadata": {
  "kernelspec": {
   "display_name": "Python 3",
   "language": "python",
   "name": "python3"
  },
  "language_info": {
   "codemirror_mode": {
    "name": "ipython",
    "version": 2
   },
   "file_extension": ".py",
   "mimetype": "text/x-python",
   "name": "python",
   "nbconvert_exporter": "python",
   "pygments_lexer": "ipython2",
   "version": "2.7.6"
  }
 },
 "nbformat": 4,
 "nbformat_minor": 0
}